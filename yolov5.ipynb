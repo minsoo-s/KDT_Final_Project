{
 "cells": [
  {
   "cell_type": "markdown",
   "metadata": {},
   "source": [
    "# [ YOLO ]\n",
    "\n",
    "# [1] 웹캠으로 인식하기\n",
    "---\n",
    "- 데이터: coco\n",
    "- 가상환경: python3.8\n",
    "- 참고 유튜브: https://www.youtube.com/watch?v=AAYswMNyooY&list=PLIhfGb332UT8uBvWPmJbycLuDQ0KcmPxN&index=1"
   ]
  },
  {
   "cell_type": "code",
   "execution_count": 1,
   "metadata": {},
   "outputs": [],
   "source": [
    "# 콘솔 실행\n",
    "# cd yolov5-master\n",
    "# cd yolov5-master\n",
    "# pip install -r .\\requirements.txt\n",
    "# python .\\detect --source 0"
   ]
  },
  {
   "cell_type": "markdown",
   "metadata": {},
   "source": [
    "# [2] 학습\n",
    "---"
   ]
  },
  {
   "cell_type": "markdown",
   "metadata": {},
   "source": [
    "- data: pothole.v1-raw.yolov5pythorch\n",
    "- git clone: https://github.com/ultralytics/yolov5.git\n",
    "- 다운로드 사이트 : https://roboflow.com/\n",
    "- 참고 유튜브 : https://www.youtube.com/watch?v=T0DO1C8uYP8&t=242s"
   ]
  },
  {
   "cell_type": "code",
   "execution_count": 2,
   "metadata": {},
   "outputs": [],
   "source": [
    "# 콘솔 실행\n",
    "\n",
    "# yolo 파일 다운로드\n",
    "# git clone https://github.com/ultralytics/yolov5.git\n",
    "\n",
    "# 환경설정\n",
    "# cd yolov5\n",
    "# pip install -r .\\requirements.txt\n"
   ]
  },
  {
   "cell_type": "code",
   "execution_count": 3,
   "metadata": {},
   "outputs": [
    {
     "name": "stderr",
     "output_type": "stream",
     "text": [
      "UsageError: Line magic function `%cat` not found.\n"
     ]
    }
   ],
   "source": [
    "%cat data.yaml"
   ]
  },
  {
   "cell_type": "code",
   "execution_count": 4,
   "metadata": {},
   "outputs": [
    {
     "name": "stdout",
     "output_type": "stream",
     "text": [
      "train 이미지 개수: 465\n"
     ]
    }
   ],
   "source": [
    "from glob import glob\n",
    "\n",
    "img_list = glob('./Pothole.v1-raw.yolov5pytorch/train/images/*.jpg')\n",
    "\n",
    "print('train 이미지 개수:', len(img_list))"
   ]
  },
  {
   "cell_type": "code",
   "execution_count": 5,
   "metadata": {},
   "outputs": [],
   "source": [
    "# conda install scikit-learn"
   ]
  },
  {
   "cell_type": "code",
   "execution_count": 6,
   "metadata": {},
   "outputs": [
    {
     "name": "stdout",
     "output_type": "stream",
     "text": [
      "372 93\n"
     ]
    }
   ],
   "source": [
    "from sklearn.model_selection import train_test_split\n",
    "\n",
    "train_img_list, val_img_list = train_test_split(img_list, test_size=0.2, random_state=2000)\n",
    "\n",
    "print(len(train_img_list), len(val_img_list))"
   ]
  },
  {
   "cell_type": "code",
   "execution_count": 7,
   "metadata": {},
   "outputs": [],
   "source": [
    "with open('./Pothole.v1-raw.yolov5pytorch/dataset/train.txt', 'w') as f:\n",
    "    f.write('\\n'.join(train_img_list) + '\\n')\n",
    "\n",
    "with open('./Pothole.v1-raw.yolov5pytorch/dataset/val.txt', 'w') as f:\n",
    "    f.write('\\n'.join(val_img_list) + '\\n')"
   ]
  },
  {
   "cell_type": "code",
   "execution_count": 8,
   "metadata": {},
   "outputs": [],
   "source": [
    "# conda install pyyaml==5.4.1"
   ]
  },
  {
   "cell_type": "code",
   "execution_count": 9,
   "metadata": {},
   "outputs": [
    {
     "name": "stdout",
     "output_type": "stream",
     "text": [
      "{'names': ['pothole'], 'nc': 1, 'train': './Pothole.v1-raw.yolov5pytorch/dataset/train.txt', 'val': './Pothole.v1-raw.yolov5pytorch/dataset/val.txt'}\n",
      "{'names': ['pothole'], 'nc': 1, 'train': './Pothole.v1-raw.yolov5pytorch/dataset/train.txt', 'val': './Pothole.v1-raw.yolov5pytorch/dataset/val.txt'}\n"
     ]
    }
   ],
   "source": [
    "import yaml\n",
    "\n",
    "with open('./Pothole.v1-raw.yolov5pytorch/data.yaml', 'r') as f:\n",
    "    data = yaml.full_load(f)\n",
    "\n",
    "print(data)\n",
    "\n",
    "data['train'] = './Pothole.v1-raw.yolov5pytorch/dataset/train.txt'\n",
    "data['val'] = './Pothole.v1-raw.yolov5pytorch/dataset/val.txt'\n",
    "\n",
    "with open('./Pothole.v1-raw.yolov5pytorch/data.yaml', 'w') as f:\n",
    "    yaml.dump(data, f)\n",
    "\n",
    "print(data)"
   ]
  },
  {
   "cell_type": "code",
   "execution_count": 10,
   "metadata": {},
   "outputs": [],
   "source": [
    "# conda install pytorch\n",
    "# conda install tqdm\n",
    "# conda install opencv\n",
    "# conda install pandas\n",
    "# conda install pillow\n",
    "# conda install torchvision\n",
    "# conda install matplotlib\n",
    "# conda install seaborn\n",
    "# conda install tensorboard\n",
    "\n",
    "# 오류 : module 'distutils' has no attribute 'version'\n",
    "# !pip install setuptools==59.5.0"
   ]
  },
  {
   "cell_type": "code",
   "execution_count": 11,
   "metadata": {},
   "outputs": [
    {
     "name": "stderr",
     "output_type": "stream",
     "text": [
      "\u001b[34m\u001b[1mtrain: \u001b[0mweights=yolov5s.pt, cfg=./yolov5/models/yolov5s.yaml, data=./Pothole.v1-raw.yolov5pytorch/data.yaml, hyp=yolov5\\data\\hyps\\hyp.scratch-low.yaml, epochs=50, batch_size=16, imgsz=416, rect=False, resume=False, nosave=False, noval=False, noautoanchor=False, noplots=False, evolve=None, bucket=, cache=None, image_weights=False, device=, multi_scale=False, single_cls=False, optimizer=SGD, sync_bn=False, workers=8, project=yolov5\\runs\\train, name=Pothole_yolov5s_results, exist_ok=False, quad=False, cos_lr=False, label_smoothing=0.0, patience=100, freeze=[0], save_period=-1, seed=0, local_rank=-1, entity=None, upload_dataset=False, bbox_interval=-1, artifact_alias=latest\n",
      "\u001b[34m\u001b[1mgithub: \u001b[0mup to date with https://github.com/ultralytics/yolov5 \n",
      "YOLOv5  v6.2-231-g0039870 Python-3.8.13 torch-1.10.2 CPU\n",
      "\n",
      "\u001b[34m\u001b[1mhyperparameters: \u001b[0mlr0=0.01, lrf=0.01, momentum=0.937, weight_decay=0.0005, warmup_epochs=3.0, warmup_momentum=0.8, warmup_bias_lr=0.1, box=0.05, cls=0.5, cls_pw=1.0, obj=1.0, obj_pw=1.0, iou_t=0.2, anchor_t=4.0, fl_gamma=0.0, hsv_h=0.015, hsv_s=0.7, hsv_v=0.4, degrees=0.0, translate=0.1, scale=0.5, shear=0.0, perspective=0.0, flipud=0.0, fliplr=0.5, mosaic=1.0, mixup=0.0, copy_paste=0.0\n",
      "\u001b[34m\u001b[1mTensorBoard: \u001b[0mStart with 'tensorboard --logdir yolov5\\runs\\train', view at http://localhost:6006/\n",
      "Traceback (most recent call last):\n",
      "  File \"./yolov5/train.py\", line 630, in <module>\n",
      "    main(opt)\n",
      "  File \"./yolov5/train.py\", line 524, in main\n",
      "    train(opt.hyp, opt, device, callbacks)\n",
      "  File \"./yolov5/train.py\", line 93, in train\n",
      "    loggers = Loggers(save_dir, weights, opt, hyp, LOGGER)  # loggers instance\n",
      "  File \"c:\\minsoo-s\\workspace\\KDT_Final_Project\\yolov5\\utils\\loggers\\__init__.py\", line 121, in __init__\n",
      "    self.clearml = ClearmlLogger(self.opt, self.hyp)\n",
      "  File \"c:\\minsoo-s\\workspace\\KDT_Final_Project\\yolov5\\utils\\loggers\\clearml\\clearml_utils.py\", line 87, in __init__\n",
      "    self.task = Task.init(\n",
      "  File \"C:\\Users\\USER\\AppData\\Roaming\\Python\\Python38\\site-packages\\clearml\\task.py\", line 601, in init\n",
      "    task = cls._create_dev_task(\n",
      "  File \"C:\\Users\\USER\\AppData\\Roaming\\Python\\Python38\\site-packages\\clearml\\task.py\", line 3123, in _create_dev_task\n",
      "    task = cls(\n",
      "  File \"C:\\Users\\USER\\AppData\\Roaming\\Python\\Python38\\site-packages\\clearml\\task.py\", line 199, in __init__\n",
      "    super(Task, self).__init__(**kwargs)\n",
      "  File \"C:\\Users\\USER\\AppData\\Roaming\\Python\\Python38\\site-packages\\clearml\\backend_interface\\task\\task.py\", line 155, in __init__\n",
      "    super(Task, self).__init__(id=task_id, session=session, log=log)\n",
      "  File \"C:\\Users\\USER\\AppData\\Roaming\\Python\\Python38\\site-packages\\clearml\\backend_interface\\base.py\", line 145, in __init__\n",
      "    super(IdObjectBase, self).__init__(session, log, **kwargs)\n",
      "  File \"C:\\Users\\USER\\AppData\\Roaming\\Python\\Python38\\site-packages\\clearml\\backend_interface\\base.py\", line 39, in __init__\n",
      "    self._session = session or self._get_default_session()\n",
      "  File \"C:\\Users\\USER\\AppData\\Roaming\\Python\\Python38\\site-packages\\clearml\\backend_interface\\base.py\", line 115, in _get_default_session\n",
      "    InterfaceBase._default_session = Session(\n",
      "  File \"C:\\Users\\USER\\AppData\\Roaming\\Python\\Python38\\site-packages\\clearml\\backend_api\\session\\session.py\", line 186, in __init__\n",
      "    raise ValueError(\n",
      "ValueError: ClearML configuration could not be found (missing `~/clearml.conf` or Environment CLEARML_API_HOST)\n",
      "To get started with ClearML: setup your own `clearml-server`, or create a free account at https://app.clear.ml\n"
     ]
    }
   ],
   "source": [
    "!python ./yolov5/train.py --img 416 --batch 16 --epochs 50 --data ./Pothole.v1-raw.yolov5pytorch/data.yaml --cfg ./yolov5/models/yolov5s.yaml --weights yolov5s.pt --name Pothole_yolov5s_results"
   ]
  },
  {
   "cell_type": "code",
   "execution_count": null,
   "metadata": {},
   "outputs": [],
   "source": []
  }
 ],
 "metadata": {
  "kernelspec": {
   "display_name": "Python 3.8.13 ('EV_PY38_YOLO')",
   "language": "python",
   "name": "python3"
  },
  "language_info": {
   "codemirror_mode": {
    "name": "ipython",
    "version": 3
   },
   "file_extension": ".py",
   "mimetype": "text/x-python",
   "name": "python",
   "nbconvert_exporter": "python",
   "pygments_lexer": "ipython3",
   "version": "3.8.13"
  },
  "orig_nbformat": 4,
  "vscode": {
   "interpreter": {
    "hash": "c7014342db120dae0d94e3b4816803b8d870cd27bc3333bb67e8c816fcbba59e"
   }
  }
 },
 "nbformat": 4,
 "nbformat_minor": 2
}
