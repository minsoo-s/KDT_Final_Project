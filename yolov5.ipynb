{
 "cells": [
  {
   "cell_type": "markdown",
   "metadata": {},
   "source": [
    "# yolov5_포트홀 인식 테스트  \n",
    "---"
   ]
  },
  {
   "cell_type": "markdown",
   "metadata": {},
   "source": [
    "- data: pothole.v1-raw.yolov5pythorch\n",
    "- git clone: https://github.com/ultralytics/yolov5.git\n",
    "- 다운로드 사이트 : https://roboflow.com/\n",
    "- 참고 유튜브 : https://www.youtube.com/watch?v=T0DO1C8uYP8&t=242s"
   ]
  },
  {
   "cell_type": "code",
   "execution_count": 2,
   "metadata": {},
   "outputs": [
    {
     "name": "stderr",
     "output_type": "stream",
     "text": [
      "Cloning into 'yolov5'...\n"
     ]
    }
   ],
   "source": [
    "# 콘솔 실행 #\n",
    "\n",
    "# yolo 파일 다운로드\n",
    "# !git clone https://github.com/ultralytics/yolov5.git"
   ]
  },
  {
   "cell_type": "code",
   "execution_count": 2,
   "metadata": {},
   "outputs": [
    {
     "name": "stdout",
     "output_type": "stream",
     "text": [
      "[WinError 2] 지정된 파일을 찾을 수 없습니다: 'yolov5'\n",
      "c:\\minsoo-s\\workspace\n"
     ]
    }
   ],
   "source": [
    "# 환경설정\n",
    "%cd yolov5\n",
    "#!pip3 install -r .\\requirements.txt"
   ]
  },
  {
   "cell_type": "code",
   "execution_count": 3,
   "metadata": {},
   "outputs": [
    {
     "name": "stdout",
     "output_type": "stream",
     "text": [
      "C:\\minsoo-s\\workspace\\KDT_Final_Project\n"
     ]
    }
   ],
   "source": [
    "%cd C:\\minsoo-s\\workspace\\KDT_Final_Project"
   ]
  },
  {
   "cell_type": "code",
   "execution_count": 4,
   "metadata": {},
   "outputs": [
    {
     "name": "stdout",
     "output_type": "stream",
     "text": [
      "train 이미지 개수: 465\n",
      "train 이미지 개수: 133\n"
     ]
    }
   ],
   "source": [
    "from glob import glob\n",
    "\n",
    "train_img_list = glob('../data/Pothole_data/train/images/*.jpg')\n",
    "print('train 이미지 개수:', len(train_img_list))\n",
    "\n",
    "val_img_list = glob('../data/Pothole_data/valid/images/*.jpg')\n",
    "print('train 이미지 개수:', len(val_img_list))"
   ]
  },
  {
   "cell_type": "code",
   "execution_count": 5,
   "metadata": {},
   "outputs": [],
   "source": [
    "with open(r'../data/Pothole_data/train.txt', 'w') as f:\n",
    "    f.write('\\n'.join(train_img_list) + '\\n')\n",
    "\n",
    "with open(r'../data/Pothole_data/val.txt', 'w') as f:\n",
    "    f.write('\\n'.join(val_img_list) + '\\n')"
   ]
  },
  {
   "cell_type": "code",
   "execution_count": 22,
   "metadata": {},
   "outputs": [],
   "source": [
    "# conda install pyyaml==5.4.1"
   ]
  },
  {
   "cell_type": "code",
   "execution_count": 6,
   "metadata": {},
   "outputs": [
    {
     "name": "stdout",
     "output_type": "stream",
     "text": [
      "{'names': ['pothole'], 'nc': 1, 'train': '../data/Pothole_data/train.txt', 'val': '../data/Pothole_data/val.txt'}\n",
      "{'names': ['pothole'], 'nc': 1, 'train': '../data/Pothole_data/train.txt', 'val': '../data/Pothole_data/val.txt'}\n"
     ]
    }
   ],
   "source": [
    "import yaml\n",
    "\n",
    "with open('../data/Pothole_data/data.yaml', 'r') as f:\n",
    "    data = yaml.full_load(f)\n",
    "\n",
    "print(data)\n",
    "\n",
    "data['train'] = '../data/Pothole_data/train.txt'\n",
    "data['val'] = '../data/Pothole_data/val.txt'\n",
    "\n",
    "with open('../data/Pothole_data/data.yaml', 'w') as f:\n",
    "    yaml.dump(data, f)\n",
    "\n",
    "print(data)"
   ]
  },
  {
   "cell_type": "code",
   "execution_count": 24,
   "metadata": {},
   "outputs": [],
   "source": [
    "# conda install pytorch\n",
    "# conda install tqdm\n",
    "# conda install opencv\n",
    "# conda install pandas\n",
    "# conda install pillow\n",
    "# conda install torchvision\n",
    "# conda install matplotlib\n",
    "# conda install seaborn\n",
    "# conda install tensorboard\n",
    "\n",
    "# 오류 : module 'distutils' has no attribute 'version'\n",
    "# !pip install setuptools==59.5.0"
   ]
  },
  {
   "cell_type": "code",
   "execution_count": 9,
   "metadata": {},
   "outputs": [
    {
     "name": "stdout",
     "output_type": "stream",
     "text": [
      "'cp949' codec can't decode byte 0xf0 in position 9: illegal multibyte sequence\n"
     ]
    },
    {
     "name": "stderr",
     "output_type": "stream",
     "text": [
      "\u001b[34m\u001b[1mtrain: \u001b[0mweights=yolov5s.pt, cfg=models/yolov5s.yaml, data=C:\\minsoo-s\\workspace\\data\\Pothole_data\\data.yaml, hyp=data\\hyps\\hyp.scratch-low.yaml, epochs=1, batch_size=16, imgsz=416, rect=False, resume=False, nosave=False, noval=False, noautoanchor=False, noplots=False, evolve=None, bucket=, cache=None, image_weights=False, device=, multi_scale=False, single_cls=False, optimizer=SGD, sync_bn=False, workers=8, project=runs\\train, name=Pothole_yolov5s_results, exist_ok=False, quad=False, cos_lr=False, label_smoothing=0.0, patience=100, freeze=[0], save_period=-1, seed=0, local_rank=-1, entity=None, upload_dataset=False, bbox_interval=-1, artifact_alias=latest\n",
      "\u001b[34m\u001b[1mgithub: \u001b[0mup to date with https://github.com/ultralytics/yolov5 \n",
      "YOLOv5  v6.2-235-g75728bb Python-3.8.13 torch-1.13.0 CPU\n",
      "\n",
      "\u001b[34m\u001b[1mhyperparameters: \u001b[0mlr0=0.01, lrf=0.01, momentum=0.937, weight_decay=0.0005, warmup_epochs=3.0, warmup_momentum=0.8, warmup_bias_lr=0.1, box=0.05, cls=0.5, cls_pw=1.0, obj=1.0, obj_pw=1.0, iou_t=0.2, anchor_t=4.0, fl_gamma=0.0, hsv_h=0.015, hsv_s=0.7, hsv_v=0.4, degrees=0.0, translate=0.1, scale=0.5, shear=0.0, perspective=0.0, flipud=0.0, fliplr=0.5, mosaic=1.0, mixup=0.0, copy_paste=0.0\n",
      "\u001b[34m\u001b[1mClearML: \u001b[0mrun 'pip install clearml' to automatically track, visualize and remotely train YOLOv5  in ClearML\n",
      "\u001b[34m\u001b[1mTensorBoard: \u001b[0mStart with 'tensorboard --logdir runs\\train', view at http://localhost:6006/\n",
      "COMET WARNING: Comet credentials have not been set. Comet will default to offline logging. Please set your credentials to enable online logging.\n",
      "COMET WARNING: Comet has disabled auto-logging functionality as it has been imported after the following ML modules: torch, tensorboard. Metrics and hyperparameters can still be logged using comet_ml.log_metrics() and comet_ml.log_parameters()\n",
      "COMET INFO: Using 'C:\\\\minsoo-s\\\\workspace\\\\KDT_Final_Project\\\\yolov5\\\\.cometml-runs' path as offline directory. Pass 'offline_directory' parameter into constructor or set the 'COMET_OFFLINE_DIRECTORY' environment variable to manually choose where to store offline experiment archives.\n",
      "COMET WARNING: Native output logging mode is not available, falling back to basic output logging\n",
      "Traceback (most recent call last):\n",
      "  File \"train.py\", line 630, in <module>\n",
      "    main(opt)\n",
      "  File \"train.py\", line 524, in main\n",
      "COMET WARNING: Unknown error exporting current conda environment\n",
      "    train(opt.hyp, opt, device, callbacks)\n",
      "  File \"train.py\", line 93, in train\n",
      "    loggers = Loggers(save_dir, weights, opt, hyp, LOGGER)  # loggers instance\n",
      "  File \"C:\\minsoo-s\\workspace\\KDT_Final_Project\\yolov5\\utils\\loggers\\__init__.py\", line 132, in __init__\n",
      "    self.comet_logger = CometLogger(self.opt, self.hyp)\n",
      "  File \"C:\\minsoo-s\\workspace\\KDT_Final_Project\\yolov5\\utils\\loggers\\comet\\__init__.py\", line 97, in __init__\n",
      "    self.data_dict = self.check_dataset(self.opt.data)\n",
      "  File \"C:\\minsoo-s\\workspace\\KDT_Final_Project\\yolov5\\utils\\loggers\\comet\\__init__.py\", line 234, in check_dataset\n",
      "    if data_config['path'].startswith(COMET_PREFIX):\n",
      "KeyError: 'path'\n",
      "COMET WARNING: Unknown error retrieving Conda package as an explicit file\n",
      "COMET WARNING: Unknown error retrieving Conda information\n",
      "COMET INFO: ----------------------------------\n",
      "COMET INFO: Comet.ml OfflineExperiment Summary\n",
      "COMET INFO: ----------------------------------\n",
      "COMET INFO:   Data:\n",
      "COMET INFO:     display_summary_level : 1\n",
      "COMET INFO:     url                   : [OfflineExperiment will get URL after upload]\n",
      "COMET INFO:   Others:\n",
      "COMET INFO:     offline_experiment : True\n",
      "COMET INFO:   Uploads:\n",
      "COMET INFO:     environment details : 1\n",
      "COMET INFO:     installed packages  : 1\n",
      "COMET INFO: ----------------------------------\n",
      "COMET WARNING: Experiment Name is generated at upload time for Offline Experiments unless set explicitly with Experiment.set_name\n",
      "COMET WARNING: Comet has disabled auto-logging functionality as it has been imported after the following ML modules: torch, tensorboard. Metrics and hyperparameters can still be logged using comet_ml.log_metrics() and comet_ml.log_parameters()\n",
      "COMET INFO: Still saving offline stats to messages file before program termination (may take up to 120 seconds)\n",
      "COMET INFO: Starting saving the offline archive\n",
      "COMET INFO: To upload this offline experiment, run:\n",
      "    comet upload C:\\minsoo-s\\workspace\\KDT_Final_Project\\yolov5\\.cometml-runs\\318a2f3af39843f7a6d13afe07576c5c.zip\n"
     ]
    }
   ],
   "source": [
    "#%cd yolov5\n",
    "!python train.py --img 416 --batch 16 --epochs 1 --data C:\\minsoo-s\\workspace\\data\\Pothole_data\\data.yaml --cfg models/yolov5s.yaml --weights yolov5s.pt --name Pothole_yolov5s_results"
   ]
  },
  {
   "cell_type": "code",
   "execution_count": null,
   "metadata": {},
   "outputs": [],
   "source": []
  }
 ],
 "metadata": {
  "kernelspec": {
   "display_name": "Python 3.8.13 ('EV_PY38_YOLOv5')",
   "language": "python",
   "name": "python3"
  },
  "language_info": {
   "codemirror_mode": {
    "name": "ipython",
    "version": 3
   },
   "file_extension": ".py",
   "mimetype": "text/x-python",
   "name": "python",
   "nbconvert_exporter": "python",
   "pygments_lexer": "ipython3",
   "version": "3.8.13"
  },
  "orig_nbformat": 4,
  "vscode": {
   "interpreter": {
    "hash": "bc6472e1bd2b63c7ab4bb27b41d9492121ae2cc6eae589bc296637b602f4a6f4"
   }
  }
 },
 "nbformat": 4,
 "nbformat_minor": 2
}
