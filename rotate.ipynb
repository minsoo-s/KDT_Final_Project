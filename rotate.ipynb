{
 "cells": [
  {
   "cell_type": "code",
   "execution_count": null,
   "metadata": {},
   "outputs": [],
   "source": [
    "import imgaug as ia \n",
    "import imgaug.augmenters as iaa import imageio\n",
    "from imgaug. augmentables.bbs import BoundingBox, BoundingBoxesOnImage \n",
    "import cv2\n",
    "from google.colab.patches import cv2_imshow from os import listdir\n",
    "\n",
    "ia.seed(1)\n",
    "#D1 : 해상도 1280,640\n",
    "path =”/content/drive/vy Drive/before aug/d1/images/train/' #원래 이미지가 있는 경로에서 for file in listdir (path) : #Listdir은 사진들의 리스트\n",
    "image = imageio. imread(path+file) #사진 불러오기\n",
    "labelfile = file.replace(' .jpg' ,'.txt' )\n",
    "£= open('/content/drive/My Drive/before aug/dl/labels/train/'+label£11e) #사진에 맞는 라벨 파일 열기\n",
    "boundingboxes = f.readlines ( )\n",
    "for i in range(len (boundingboxes)):\n",
    "boundingboxif - boundingboxes[i].split(\" \") #boundingboxif = ['0', '0.082332, '0.536058, '0.033654', '0.060096\\n' 1\n",
    "#print (boundingboxif)\n",
    "for ; in range(len (boundingboxif)):\n",
    "if boundingboxif[il=='0'\n",
    "boundingboxif[il = 0\n",
    "else:\n",
    "x =float (boundingboxif [jl)\n",
    "boundingboxif[j] =\n",
    "boundingboxes [i] = boundingboxif"
   ]
  }
 ],
 "metadata": {
  "language_info": {
   "name": "python"
  },
  "orig_nbformat": 4
 },
 "nbformat": 4,
 "nbformat_minor": 2
}
